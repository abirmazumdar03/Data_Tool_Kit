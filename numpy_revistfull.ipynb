{
 "cells": [
  {
   "cell_type": "markdown",
   "metadata": {},
   "source": [
    "# **NUMPY FULL REVISION**"
   ]
  },
  {
   "cell_type": "markdown",
   "metadata": {},
   "source": [
    "## **01.Numpy Basics**"
   ]
  },
  {
   "cell_type": "markdown",
   "metadata": {},
   "source": [
    "* **It is a fundamental package for scientific computing in Python**\n",
    "* Numpy stores data in the form of an n-dimensional Array\n",
    "* Array are data structures that stores data/items of the same type only\n",
    "\n",
    "* **np.array**(list/tuple/set,ndmin=(Dimension type),dtype=(data_type of all items in the array))\n",
    "* **array.ndmin** --> To get the dimesnion idea of the array\n",
    "* A **matrix is a specialized 2-D array** that retains its 2-D nature through operations.\n",
    "* **np.asarray** --> creates a view of the array of hpow it will look if converted to array\n",
    "                1. **Creates a view if possible, otherwise a copy**\n",
    "                2. **More memory efficient (avoids unnecessary copies)**\n",
    "                3. **Avoids copying if the data is already suitable for a NumPy array**\n",
    "\n",
    "* **np.fromfunction(function,dimension(X*Y))** --> Creating an array from a function\n",
    "    * best to use with lambda function for quick creation of array\n",
    "\n",
    "* **<array_obj>.shape** ---> Gives the total number of elements present in the Numpy Array\n",
    "* **<array_obj>.ndim** ---> Gives the Dimensions of the Array\n",
    "* **np.asanyarray** ---> This function will convert only those object into which are not in the form of an Array (like list , tuple , set) . If the Object passed is already an Array or Sub-class of an Array(like matrices) it will leave as it is won't convert it into array.\n",
    "* **np.fromiter(iterable_obj,dtype=data_type)** ---> creates an array from an Iterable Object"
   ]
  },
  {
   "cell_type": "code",
   "execution_count": 3,
   "metadata": {},
   "outputs": [],
   "source": [
    "import numpy as np"
   ]
  },
  {
   "cell_type": "code",
   "execution_count": 4,
   "metadata": {},
   "outputs": [
    {
     "name": "stdout",
     "output_type": "stream",
     "text": [
      "2.2.3\n",
      "\n",
      "NumPy\n",
      "=====\n",
      "\n",
      "Provides\n",
      "  1. An array object of arbitrary homogeneous items\n",
      "  2. Fast mathematical operations over arrays\n",
      "  3. Linear Algebra, Fourier Transforms, Random Number Generation\n",
      "\n",
      "How to use the documentation\n",
      "----------------------------\n",
      "Documentation is available in two forms: docstrings provided\n",
      "with the code, and a loose standing reference guide, available from\n",
      "`the NumPy homepage <https://numpy.org>`_.\n",
      "\n",
      "We recommend exploring the docstrings using\n",
      "`IPython <https://ipython.org>`_, an advanced Python shell with\n",
      "TAB-completion and introspection capabilities.  See below for further\n",
      "instructions.\n",
      "\n",
      "The docstring examples assume that `numpy` has been imported as ``np``::\n",
      "\n",
      "  >>> import numpy as np\n",
      "\n",
      "Code snippets are indicated by three greater-than signs::\n",
      "\n",
      "  >>> x = 42\n",
      "  >>> x = x + 1\n",
      "\n",
      "Use the built-in ``help`` function to view a function's docstring::\n",
      "\n",
      "  >>> help(np.sort)\n",
      "  ... # doctest: +SKIP\n",
      "\n",
      "For some objects, ``np.info(obj)`` may provide additional help.  This is\n",
      "particularly true if you see the line \"Help on ufunc object:\" at the top\n",
      "of the help() page.  Ufuncs are implemented in C, not Python, for speed.\n",
      "The native Python help() does not know how to view their help, but our\n",
      "np.info() function does.\n",
      "\n",
      "Available subpackages\n",
      "---------------------\n",
      "lib\n",
      "    Basic functions used by several sub-packages.\n",
      "random\n",
      "    Core Random Tools\n",
      "linalg\n",
      "    Core Linear Algebra Tools\n",
      "fft\n",
      "    Core FFT routines\n",
      "polynomial\n",
      "    Polynomial tools\n",
      "testing\n",
      "    NumPy testing tools\n",
      "distutils\n",
      "    Enhancements to distutils with support for\n",
      "    Fortran compilers support and more (for Python <= 3.11)\n",
      "\n",
      "Utilities\n",
      "---------\n",
      "test\n",
      "    Run numpy unittests\n",
      "show_config\n",
      "    Show numpy build configuration\n",
      "__version__\n",
      "    NumPy version string\n",
      "\n",
      "Viewing documentation using IPython\n",
      "-----------------------------------\n",
      "\n",
      "Start IPython and import `numpy` usually under the alias ``np``: `import\n",
      "numpy as np`.  Then, directly past or use the ``%cpaste`` magic to paste\n",
      "examples into the shell.  To see which functions are available in `numpy`,\n",
      "type ``np.<TAB>`` (where ``<TAB>`` refers to the TAB key), or use\n",
      "``np.*cos*?<ENTER>`` (where ``<ENTER>`` refers to the ENTER key) to narrow\n",
      "down the list.  To view the docstring for a function, use\n",
      "``np.cos?<ENTER>`` (to view the docstring) and ``np.cos??<ENTER>`` (to view\n",
      "the source code).\n",
      "\n",
      "Copies vs. in-place operation\n",
      "-----------------------------\n",
      "Most of the functions in `numpy` return a copy of the array argument\n",
      "(e.g., `np.sort`).  In-place versions of these functions are often\n",
      "available as array methods, i.e. ``x = np.array([1,2,3]); x.sort()``.\n",
      "Exceptions to this rule are documented.\n",
      "\n",
      "\n"
     ]
    }
   ],
   "source": [
    "print(np.__version__)  # to check the version of the numoy\n",
    "print(np.__doc__)  # to check the documentation of numpy"
   ]
  },
  {
   "cell_type": "code",
   "execution_count": 5,
   "metadata": {},
   "outputs": [
    {
     "name": "stdout",
     "output_type": "stream",
     "text": [
      "[ 4 66  9  6 44 58  5 22  3]\n"
     ]
    }
   ],
   "source": [
    "arr=np.array((4,66,9,6,44,58,5,22,3),dtype=np.int32)  #A numpy array of data type int32\n",
    "print(arr)  #Array stores data of the same type"
   ]
  },
  {
   "cell_type": "code",
   "execution_count": 6,
   "metadata": {},
   "outputs": [
    {
     "data": {
      "text/plain": [
       "numpy.ndarray"
      ]
     },
     "execution_count": 6,
     "metadata": {},
     "output_type": "execute_result"
    }
   ],
   "source": [
    "type(arr)"
   ]
  },
  {
   "cell_type": "code",
   "execution_count": 7,
   "metadata": {},
   "outputs": [
    {
     "data": {
      "text/plain": [
       "1"
      ]
     },
     "execution_count": 7,
     "metadata": {},
     "output_type": "execute_result"
    }
   ],
   "source": [
    "arr.ndim  #function to check the dimesnion of the array"
   ]
  },
  {
   "cell_type": "code",
   "execution_count": 8,
   "metadata": {},
   "outputs": [
    {
     "name": "stdout",
     "output_type": "stream",
     "text": [
      "[[ 4 54  6]\n",
      " [ 1  4  4]\n",
      " [ 1  8  9]\n",
      " [ 7 22  3]]\n",
      "2\n",
      "(4, 3)\n"
     ]
    }
   ],
   "source": [
    "#Creating a 2D Array\n",
    "arr_2d=np.array([[4,54,6],[1,4,4],[1,8,9],[7,22,3]])\n",
    "print(arr_2d)\n",
    "print(arr_2d.ndim)  #prinnts the dimesnion of the array\n",
    "print(arr_2d.shape)  #prints the shape of the array  i.e rows x columns"
   ]
  },
  {
   "cell_type": "code",
   "execution_count": 9,
   "metadata": {},
   "outputs": [
    {
     "data": {
      "text/plain": [
       "array([ 8, 15, 14, 12])"
      ]
     },
     "execution_count": 9,
     "metadata": {},
     "output_type": "execute_result"
    }
   ],
   "source": [
    "arr1=np.array([4,6,8,9]); arr2=np.array([4,9,6,3])\n",
    "arr1+arr2  # + operator leads to an corresponding elemental scalar addition of the numbers in the both the array (provided the shape of the array is same)"
   ]
  },
  {
   "cell_type": "code",
   "execution_count": 10,
   "metadata": {},
   "outputs": [
    {
     "data": {
      "text/plain": [
       "array([ 4, 66,  9,  6, 44, 58,  5, 22,  3], dtype=int32)"
      ]
     },
     "execution_count": 10,
     "metadata": {},
     "output_type": "execute_result"
    }
   ],
   "source": [
    "arr"
   ]
  },
  {
   "cell_type": "code",
   "execution_count": 11,
   "metadata": {},
   "outputs": [
    {
     "data": {
      "text/plain": [
       "np.int32(58)"
      ]
     },
     "execution_count": 11,
     "metadata": {},
     "output_type": "execute_result"
    }
   ],
   "source": [
    "arr[5]  #accesing the 5th index of the array"
   ]
  },
  {
   "cell_type": "code",
   "execution_count": 12,
   "metadata": {},
   "outputs": [
    {
     "name": "stdout",
     "output_type": "stream",
     "text": [
      "[  4  66 560   6  44  58   5  22   3]\n"
     ]
    }
   ],
   "source": [
    "arr[2]= 560 #changing the value of the 2nd index of the array\n",
    "print(arr)"
   ]
  },
  {
   "cell_type": "code",
   "execution_count": 13,
   "metadata": {},
   "outputs": [
    {
     "data": {
      "text/plain": [
       "array([  4,  66, 560,   3,  44,  58,   5,  22,   3], dtype=int32)"
      ]
     },
     "execution_count": 13,
     "metadata": {},
     "output_type": "execute_result"
    }
   ],
   "source": [
    "#Trying to modify an ith index eleemnt of the array but of diffrerent data type\n",
    "arr[3]=3.141 #It will truncate the decimal part of the float number and will store the integer part of the number\n",
    "arr"
   ]
  },
  {
   "cell_type": "code",
   "execution_count": 14,
   "metadata": {},
   "outputs": [
    {
     "name": "stdout",
     "output_type": "stream",
     "text": [
      "[[ 1  0  0  0  0]\n",
      " [ 1  1  1  1  1]\n",
      " [ 1  2  4  8 16]\n",
      " [ 1  3  9 27 81]]\n",
      "2\n",
      "(4, 5)\n"
     ]
    }
   ],
   "source": [
    "#Creating an 4 x 5 array with the help of a function\n",
    "arr3=np.fromfunction(lambda a,b : a**b , (4,5), dtype=int)  #This will create a 4 x 5 array with the help of a function\n",
    "print(arr3)\n",
    "print(arr3.ndim)\n",
    "print(arr3.shape)"
   ]
  },
  {
   "cell_type": "code",
   "execution_count": 15,
   "metadata": {},
   "outputs": [
    {
     "name": "stderr",
     "output_type": "stream",
     "text": [
      "C:\\Users\\abirm\\AppData\\Local\\Temp\\ipykernel_10172\\1456927273.py:1: DeprecationWarning: string or file could not be read to its end due to unmatched data; this will raise a ValueError in the future.\n",
      "  np.fromstring(\"APPLE, BANANA, CHERRY\", sep=\",\")  #This will create an array of the string\n"
     ]
    },
    {
     "data": {
      "text/plain": [
       "array([], dtype=float64)"
      ]
     },
     "execution_count": 15,
     "metadata": {},
     "output_type": "execute_result"
    }
   ],
   "source": [
    "np.fromstring(\"APPLE, BANANA, CHERRY\", sep=\",\")  #This will create an array of the string"
   ]
  },
  {
   "cell_type": "code",
   "execution_count": 16,
   "metadata": {},
   "outputs": [
    {
     "data": {
      "text/plain": [
       "array([26.,  5.,  8., 99.,  6., 44.,  7.,  8.])"
      ]
     },
     "execution_count": 16,
     "metadata": {},
     "output_type": "execute_result"
    }
   ],
   "source": [
    "np.fromstring(\"26,5,8,99,6,44,7,8\", sep=\",\")  #bEST WORKS WHEN THE STRING SQQUENCE IS OF THE SAME DATA TYPE like all integer or float"
   ]
  },
  {
   "cell_type": "code",
   "execution_count": 17,
   "metadata": {},
   "outputs": [
    {
     "data": {
      "text/plain": [
       "array([100, 144, 196, 256, 324, 400])"
      ]
     },
     "execution_count": 17,
     "metadata": {},
     "output_type": "execute_result"
    }
   ],
   "source": [
    "#Creating an array from an interable object\n",
    "iterable=map(lambda x: x*x , range(10,21,2))  #Creating a map object with the help of lambda function\n",
    "arr4=np.fromiter(iterable, dtype=int)  #Creating an array from the map object\n",
    "arr4"
   ]
  },
  {
   "cell_type": "markdown",
   "metadata": {},
   "source": [
    "## **02. Numpy Advance 1**"
   ]
  },
  {
   "cell_type": "markdown",
   "metadata": {},
   "source": [
    "* **<arr_obj>[:]= <Changed_constant_value>** ---> To change all the elements of an Array at once with a fixed value\n",
    "\n",
    "* **np.eye** ---> Offers more flexibility in creating matrices with ones on a specific diagonal.\n",
    "    Use np.eye when you need more control over the dimensions of the matrix or want to place the ones on a diagonal other than the main diagonal.\n",
    "\n",
    "* **arr_obj.T** --> performs the transpose of a Matrix"
   ]
  },
  {
   "cell_type": "markdown",
   "metadata": {},
   "source": [
    "* **np.arange()** --->  arange(...)\n",
    "    arange([start,] stop[, step,], dtype=None, *, device=None, like=None) Return evenly spaced values within a given interval."
   ]
  },
  {
   "cell_type": "code",
   "execution_count": 18,
   "metadata": {},
   "outputs": [
    {
     "data": {
      "text/plain": [
       "array([ 0,  5, 10, 15, 20, 25, 30, 35, 40, 45, 50, 55, 60, 65, 70, 75, 80,\n",
       "       85, 90, 95])"
      ]
     },
     "execution_count": 18,
     "metadata": {},
     "output_type": "execute_result"
    }
   ],
   "source": [
    "np.arange(0,100,5)  #Stop is exclusive , #It won't care about the length only will care about the step size"
   ]
  },
  {
   "cell_type": "code",
   "execution_count": 19,
   "metadata": {},
   "outputs": [],
   "source": [
    "# help(np.arange)"
   ]
  },
  {
   "cell_type": "markdown",
   "metadata": {},
   "source": [
    "* **np.linespace(start,stop,datapoints_frequency)** ----> Returns evenly spaced numbers over a specified interval"
   ]
  },
  {
   "cell_type": "code",
   "execution_count": 20,
   "metadata": {},
   "outputs": [
    {
     "data": {
      "text/plain": [
       "array([  0.        ,   5.26315789,  10.52631579,  15.78947368,\n",
       "        21.05263158,  26.31578947,  31.57894737,  36.84210526,\n",
       "        42.10526316,  47.36842105,  52.63157895,  57.89473684,\n",
       "        63.15789474,  68.42105263,  73.68421053,  78.94736842,\n",
       "        84.21052632,  89.47368421,  94.73684211, 100.        ])"
      ]
     },
     "execution_count": 20,
     "metadata": {},
     "output_type": "execute_result"
    }
   ],
   "source": [
    "np.linspace(0,100,20) #It will create an array of 20 elements from 0 to 100 both inclusive with an equal step size decided by the function\n",
    "#But sometimes may optionally exclude the endpoint"
   ]
  },
  {
   "cell_type": "markdown",
   "metadata": {},
   "source": [
    "* **Creating an Array of all Zeros and All Oness**"
   ]
  },
  {
   "cell_type": "code",
   "execution_count": 21,
   "metadata": {},
   "outputs": [
    {
     "name": "stdout",
     "output_type": "stream",
     "text": [
      "[[0. 0. 0.]\n",
      " [0. 0. 0.]\n",
      " [0. 0. 0.]]\n",
      "2\n",
      "(3, 3)\n"
     ]
    }
   ],
   "source": [
    "arr5=np.zeros((3,3),dtype=float)  #Creating a Null MAatrix of 3X3\n",
    "print(arr5)\n",
    "print(arr5.ndim)\n",
    "print(arr5.shape)"
   ]
  },
  {
   "cell_type": "code",
   "execution_count": 22,
   "metadata": {},
   "outputs": [
    {
     "name": "stdout",
     "output_type": "stream",
     "text": [
      "[[1. 1. 1. 1. 1.]\n",
      " [1. 1. 1. 1. 1.]\n",
      " [1. 1. 1. 1. 1.]\n",
      " [1. 1. 1. 1. 1.]]\n",
      "2\n",
      "(4, 5)\n"
     ]
    }
   ],
   "source": [
    "#Creating an matrix of 4 x 5 of all ones\n",
    "arr6=np.ones((4,5),dtype=float)\n",
    "print(arr6)\n",
    "print(arr6.ndim)\n",
    "print(arr6.shape)"
   ]
  },
  {
   "cell_type": "code",
   "execution_count": 23,
   "metadata": {},
   "outputs": [
    {
     "name": "stdout",
     "output_type": "stream",
     "text": [
      "[[[1. 1. 1. 1.]\n",
      "  [1. 1. 1. 1.]\n",
      "  [1. 1. 1. 1.]]\n",
      "\n",
      " [[1. 1. 1. 1.]\n",
      "  [1. 1. 1. 1.]\n",
      "  [1. 1. 1. 1.]]]\n",
      "3\n",
      "(2, 3, 4)\n"
     ]
    }
   ],
   "source": [
    "#Creating a 3D matrix of 2x3x4 \n",
    "arr7=np.ones((2,3,4))\n",
    "print(arr7)\n",
    "print(arr7.ndim)\n",
    "print(arr7.shape)"
   ]
  },
  {
   "cell_type": "code",
   "execution_count": 24,
   "metadata": {},
   "outputs": [
    {
     "data": {
      "text/plain": [
       "array([[6.23042070e-307, 4.67296746e-307, 1.69121096e-306],\n",
       "       [1.11260348e-306, 1.89146896e-307, 7.56571288e-307]])"
      ]
     },
     "execution_count": 24,
     "metadata": {},
     "output_type": "execute_result"
    }
   ],
   "source": [
    "arr8=np.empty((2,3))\n",
    "arr8"
   ]
  },
  {
   "cell_type": "code",
   "execution_count": 25,
   "metadata": {},
   "outputs": [
    {
     "name": "stdout",
     "output_type": "stream",
     "text": [
      "[[1. 1. 1. 1. 1.]\n",
      " [1. 1. 1. 1. 1.]\n",
      " [1. 1. 1. 1. 1.]\n",
      " [1. 1. 1. 1. 1.]]\n",
      "[[1. 1. 1. 1.]\n",
      " [1. 1. 1. 1.]\n",
      " [1. 1. 1. 1.]\n",
      " [1. 1. 1. 1.]\n",
      " [1. 1. 1. 1.]]\n"
     ]
    }
   ],
   "source": [
    "print(arr6)\n",
    "print(arr6.T)  #Creating transpose of the arr6 matrix"
   ]
  },
  {
   "cell_type": "code",
   "execution_count": 26,
   "metadata": {},
   "outputs": [
    {
     "name": "stdout",
     "output_type": "stream",
     "text": [
      "(2, 3, 4)\n",
      "[[[1. 1. 1. 1.]\n",
      "  [1. 1. 1. 1.]\n",
      "  [1. 1. 1. 1.]]\n",
      "\n",
      " [[1. 1. 1. 1.]\n",
      "  [1. 1. 1. 1.]\n",
      "  [1. 1. 1. 1.]]]\n",
      "\n",
      "[[[1. 1.]\n",
      "  [1. 1.]\n",
      "  [1. 1.]]\n",
      "\n",
      " [[1. 1.]\n",
      "  [1. 1.]\n",
      "  [1. 1.]]\n",
      "\n",
      " [[1. 1.]\n",
      "  [1. 1.]\n",
      "  [1. 1.]]\n",
      "\n",
      " [[1. 1.]\n",
      "  [1. 1.]\n",
      "  [1. 1.]]]\n",
      "(4, 3, 2)\n"
     ]
    }
   ],
   "source": [
    "print(arr7.shape)  #Original 3D matrix\n",
    "print(arr7,end=\"\\n\\n\")\n",
    "print(arr7.T)\n",
    "print(arr7.T.shape)  #Transposing a 3D Matrix"
   ]
  },
  {
   "cell_type": "markdown",
   "metadata": {},
   "source": [
    "### **2.1 Random Ways to Populate an Array**"
   ]
  },
  {
   "cell_type": "code",
   "execution_count": 27,
   "metadata": {},
   "outputs": [
    {
     "data": {
      "text/plain": [
       "array([[0.14965231, 0.20538078, 0.59030337, 0.37553498, 0.76844292,\n",
       "        0.45489991],\n",
       "       [0.5046719 , 0.53838024, 0.71475229, 0.55441667, 0.30529299,\n",
       "        0.14231026],\n",
       "       [0.04418784, 0.97511743, 0.83060383, 0.3808985 , 0.7647674 ,\n",
       "        0.00503237],\n",
       "       [0.19049284, 0.87075786, 0.96274731, 0.21439995, 0.37935248,\n",
       "        0.91395153],\n",
       "       [0.65689555, 0.69402431, 0.70327172, 0.16414015, 0.62388222,\n",
       "        0.25100142]])"
      ]
     },
     "execution_count": 27,
     "metadata": {},
     "output_type": "execute_result"
    }
   ],
   "source": [
    "np.random.rand(5,6) #Creates a array of szie 5x6 with random numbers [0,1)]"
   ]
  },
  {
   "cell_type": "code",
   "execution_count": 28,
   "metadata": {},
   "outputs": [
    {
     "data": {
      "text/plain": [
       "array([[12,  7, 11, 11, 12],\n",
       "       [ 8,  8,  4, 14,  9],\n",
       "       [ 7, 10,  6,  8, 14],\n",
       "       [14,  8, 14, 13, 12],\n",
       "       [12,  9,  4,  5, 11]], dtype=int32)"
      ]
     },
     "execution_count": 28,
     "metadata": {},
     "output_type": "execute_result"
    }
   ],
   "source": [
    "np.random.randint(low=4,high=15,size=(5,5)) #This creates an Array of size 5 x 5 with random numbers between [low,high)]"
   ]
  },
  {
   "cell_type": "code",
   "execution_count": 29,
   "metadata": {},
   "outputs": [
    {
     "data": {
      "text/plain": [
       "array([[ 0.22331464,  0.01888711, -0.53423419, -1.22071282, -0.93639665],\n",
       "       [-0.45207567,  0.61323537,  1.28027664,  1.07266361,  0.048715  ],\n",
       "       [-1.2335847 , -0.87000725,  0.16792103, -1.14367533,  0.49568344],\n",
       "       [-2.03998689, -0.13645952,  0.28099293, -2.17260878,  1.13261771],\n",
       "       [-1.06034378,  0.24142067,  1.06129154, -0.48216265,  1.04884702]])"
      ]
     },
     "execution_count": 29,
     "metadata": {},
     "output_type": "execute_result"
    }
   ],
   "source": [
    "np.random.randn(5,5)  #This creates an array of size 5 x 5 with random numbers from the standard normal distribution"
   ]
  },
  {
   "cell_type": "markdown",
   "metadata": {},
   "source": [
    "### **2.2 Re-Shaping an Array**\n",
    "* Basically changing the dimesnion of the array\n",
    "* reshaping only possible when re-shape dimensions are multiple to the the number of elements in the Array\n",
    "* case when you dont know in reshape what should be the column count or row count just add -1 (or any -ve value)to the respective position\n",
    "* **arr.reshape(12, 1).base** ---> to see the original array"
   ]
  },
  {
   "cell_type": "code",
   "execution_count": 30,
   "metadata": {},
   "outputs": [
    {
     "name": "stdout",
     "output_type": "stream",
     "text": [
      "[[ 1  0  0  0  0]\n",
      " [ 1  1  1  1  1]\n",
      " [ 1  2  4  8 16]\n",
      " [ 1  3  9 27 81]]\n",
      "Shape of the array  (4, 5)\n",
      "Array Size or Number of Elements in the array  20\n"
     ]
    }
   ],
   "source": [
    "print(arr3)\n",
    "print(\"Shape of the array \",arr3.shape)\n",
    "print(\"Array Size or Number of Elements in the array \",arr3.size)"
   ]
  },
  {
   "cell_type": "code",
   "execution_count": 31,
   "metadata": {},
   "outputs": [
    {
     "data": {
      "text/plain": [
       "array([[ 1,  0],\n",
       "       [ 0,  0],\n",
       "       [ 0,  1],\n",
       "       [ 1,  1],\n",
       "       [ 1,  1],\n",
       "       [ 1,  2],\n",
       "       [ 4,  8],\n",
       "       [16,  1],\n",
       "       [ 3,  9],\n",
       "       [27, 81]])"
      ]
     },
     "execution_count": 31,
     "metadata": {},
     "output_type": "execute_result"
    }
   ],
   "source": [
    "#Reshaping the above array from 4x5 to 10x2\n",
    "arr3.reshape(10,2)"
   ]
  },
  {
   "cell_type": "code",
   "execution_count": 32,
   "metadata": {},
   "outputs": [
    {
     "name": "stdout",
     "output_type": "stream",
     "text": [
      "Not a valid shape for the array cannot reshape array of size 20 into shape (12,55)\n"
     ]
    }
   ],
   "source": [
    "try :\n",
    "    arr3.reshape(12,55)  #Trying to reshape with invalid shape of the array\n",
    "except Exception as e:\n",
    "    print(\"Not a valid shape for the array\",e)"
   ]
  },
  {
   "cell_type": "code",
   "execution_count": 33,
   "metadata": {},
   "outputs": [
    {
     "name": "stdout",
     "output_type": "stream",
     "text": [
      "(4, 5)\n",
      "[[1. 1. 1. 1. 1.]\n",
      " [1. 1. 1. 1. 1.]\n",
      " [1. 1. 1. 1. 1.]\n",
      " [1. 1. 1. 1. 1.]]\n",
      "New Re-shape of the Array [[1. 1. 1. 1. 1. 1. 1. 1. 1. 1.]\n",
      " [1. 1. 1. 1. 1. 1. 1. 1. 1. 1.]]\n"
     ]
    }
   ],
   "source": [
    "#In case someone does not know the number of rows or columns in the array or want to see the actual view of the array\n",
    "print(arr6.shape)\n",
    "print(arr6)\n",
    "print(\"New Re-shape of the Array\",arr6.reshape(2,-1))  #Leaving the column entry to numpy"
   ]
  },
  {
   "cell_type": "code",
   "execution_count": 34,
   "metadata": {},
   "outputs": [
    {
     "name": "stdout",
     "output_type": "stream",
     "text": [
      "[[1. 1. 1. 1. 1. 1. 1. 1. 1. 1.]\n",
      " [1. 1. 1. 1. 1. 1. 1. 1. 1. 1.]]\n"
     ]
    }
   ],
   "source": [
    "new_arr=arr6.reshape(2,10)\n",
    "print(new_arr)"
   ]
  },
  {
   "cell_type": "code",
   "execution_count": 35,
   "metadata": {},
   "outputs": [
    {
     "data": {
      "text/plain": [
       "array([[1., 1., 1., 1., 1.],\n",
       "       [1., 1., 1., 1., 1.],\n",
       "       [1., 1., 1., 1., 1.],\n",
       "       [1., 1., 1., 1., 1.]])"
      ]
     },
     "execution_count": 35,
     "metadata": {},
     "output_type": "execute_result"
    }
   ],
   "source": [
    "new_arr.reshape(2,10).base  #This shows the view of the actual base array shape"
   ]
  },
  {
   "cell_type": "markdown",
   "metadata": {},
   "source": [
    "### **2.3 Slicing and Indexing an Array**\n",
    "* arr[ith] --> Gives all the elemnt of ith row as an NumPy Array\n",
    "* arr[ith][jth] ---> Gives the elemnt present at the (ith row and jth column i 2D )\n",
    "* arr[i:j]  ---> gives all the rows from ith to (j-1)th row of the matrix \n"
   ]
  },
  {
   "cell_type": "code",
   "execution_count": 36,
   "metadata": {},
   "outputs": [
    {
     "name": "stdout",
     "output_type": "stream",
     "text": [
      "Our Array \n",
      "  [[ 3  8  8]\n",
      " [42 23 23]\n",
      " [25  2 36]\n",
      " [40 16 27]\n",
      " [50  5 22]\n",
      " [41 33 48]\n",
      " [ 1  8 41]\n",
      " [36  1 16]]\n",
      "Size of the Array : 24\n",
      "Shape of the Array : (8, 3)\n",
      "Dimension of the Array : 2\n"
     ]
    }
   ],
   "source": [
    "test_arr=np.random.randint(low=1,high=51,size=(8,3))\n",
    "print(\"Our Array \\n \",test_arr)\n",
    "print(f\"Size of the Array : {test_arr.size}\")\n",
    "print(f\"Shape of the Array : {test_arr.shape}\")\n",
    "print(f\"Dimension of the Array : {test_arr.ndim}\")"
   ]
  },
  {
   "cell_type": "code",
   "execution_count": 37,
   "metadata": {},
   "outputs": [
    {
     "data": {
      "text/plain": [
       "array([[ 3,  8,  8],\n",
       "       [42, 23, 23],\n",
       "       [25,  2, 36],\n",
       "       [40, 16, 27]], dtype=int32)"
      ]
     },
     "execution_count": 37,
     "metadata": {},
     "output_type": "execute_result"
    }
   ],
   "source": [
    "#Fetching the first 4 rows of the Matrix\n",
    "test_arr[:4]"
   ]
  },
  {
   "cell_type": "code",
   "execution_count": 38,
   "metadata": {},
   "outputs": [
    {
     "data": {
      "text/plain": [
       "array([ 8, 23,  2, 16,  5, 33,  8,  1], dtype=int32)"
      ]
     },
     "execution_count": 38,
     "metadata": {},
     "output_type": "execute_result"
    }
   ],
   "source": [
    "#Fecth all the elements of the 2nd column\n",
    "test_arr[:,1]"
   ]
  },
  {
   "cell_type": "code",
   "execution_count": 39,
   "metadata": {},
   "outputs": [
    {
     "data": {
      "text/plain": [
       "array([[33, 48],\n",
       "       [ 8, 41],\n",
       "       [ 1, 16]], dtype=int32)"
      ]
     },
     "execution_count": 39,
     "metadata": {},
     "output_type": "execute_result"
    }
   ],
   "source": [
    "#Create a sub-matrix of last 3 rows and last 2 columns\n",
    "test_arr[-3:,-2:]"
   ]
  },
  {
   "cell_type": "code",
   "execution_count": 40,
   "metadata": {},
   "outputs": [
    {
     "data": {
      "text/plain": [
       "array([[False, False, False],\n",
       "       [ True,  True,  True],\n",
       "       [ True, False,  True],\n",
       "       [ True,  True,  True],\n",
       "       [ True, False,  True],\n",
       "       [ True,  True,  True],\n",
       "       [False, False,  True],\n",
       "       [ True, False,  True]])"
      ]
     },
     "execution_count": 40,
     "metadata": {},
     "output_type": "execute_result"
    }
   ],
   "source": [
    "#Testing out some condition on the array itself\n",
    "test_arr>12"
   ]
  },
  {
   "cell_type": "code",
   "execution_count": 41,
   "metadata": {},
   "outputs": [
    {
     "data": {
      "text/plain": [
       "array([3, 8, 8, 2, 5, 1, 8, 1], dtype=int32)"
      ]
     },
     "execution_count": 41,
     "metadata": {},
     "output_type": "execute_result"
    }
   ],
   "source": [
    "test_arr[test_arr<12]"
   ]
  },
  {
   "cell_type": "markdown",
   "metadata": {},
   "source": [
    "### **2.4 Index-Wise Arithmetic Operations , Overall Mathematical Operations  and Matrix Multiplication**\n",
    "* For index wise Arithmetic Operations the shape of the participating array should be the same else exception will be raised\n",
    "* For Matrix Mul you know the rule :)"
   ]
  },
  {
   "cell_type": "code",
   "execution_count": 42,
   "metadata": {},
   "outputs": [
    {
     "name": "stdout",
     "output_type": "stream",
     "text": [
      "MATRIX 1 : [[52 30 58 57 44 44]\n",
      " [29 23 56 29 26 10]\n",
      " [36 49 55 60 37 39]\n",
      " [50 40 56 10 48 56]\n",
      " [48 37 54 58 24 16]\n",
      " [35 38 18 13 58 32]] \n",
      " MATRIX 2 : [[24 20 20  9 21 21]\n",
      " [10 27  9 26 27 16]\n",
      " [23 28 22 18 27  9]\n",
      " [10 13  8 10 10 28]\n",
      " [18 26 26 24 10 21]\n",
      " [ 9 17 15  8 25 23]] \n",
      " MATRIX 3 : [[ 0  8  2 10]\n",
      " [ 2  9  6  0]\n",
      " [ 6 10  4 -2]\n",
      " [ 7 -1  0  1]\n",
      " [10  4 -1  3]\n",
      " [ 8  2  1  4]]\n"
     ]
    }
   ],
   "source": [
    "a=np.random.randint(low=10,high=61,size=(6,6))\n",
    "b=np.random.randint(low=7,high=31,size=(6,6))\n",
    "c=np.random.randint(low=-3,high=11,size=(6,4))\n",
    "\n",
    "print(f\"MATRIX 1 : {a} \\n MATRIX 2 : {b} \\n MATRIX 3 : {c}\")"
   ]
  },
  {
   "cell_type": "code",
   "execution_count": 43,
   "metadata": {},
   "outputs": [
    {
     "name": "stdout",
     "output_type": "stream",
     "text": [
      "Addition of the Matrices : \n",
      " [[76 50 78 66 65 65]\n",
      " [39 50 65 55 53 26]\n",
      " [59 77 77 78 64 48]\n",
      " [60 53 64 20 58 84]\n",
      " [66 63 80 82 34 37]\n",
      " [44 55 33 21 83 55]]\n",
      "Subtraction of the Matrices : \n",
      " [[28 10 38 48 23 23]\n",
      " [19 -4 47  3 -1 -6]\n",
      " [13 21 33 42 10 30]\n",
      " [40 27 48  0 38 28]\n",
      " [30 11 28 34 14 -5]\n",
      " [26 21  3  5 33  9]]\n",
      "Multiplication of the Matrices : \n",
      " [[1248  600 1160  513  924  924]\n",
      " [ 290  621  504  754  702  160]\n",
      " [ 828 1372 1210 1080  999  351]\n",
      " [ 500  520  448  100  480 1568]\n",
      " [ 864  962 1404 1392  240  336]\n",
      " [ 315  646  270  104 1450  736]]\n",
      "Division of the Matrices : \n",
      " [[2.16666667 1.5        2.9        6.33333333 2.0952381  2.0952381 ]\n",
      " [2.9        0.85185185 6.22222222 1.11538462 0.96296296 0.625     ]\n",
      " [1.56521739 1.75       2.5        3.33333333 1.37037037 4.33333333]\n",
      " [5.         3.07692308 7.         1.         4.8        2.        ]\n",
      " [2.66666667 1.42307692 2.07692308 2.41666667 2.4        0.76190476]\n",
      " [3.88888889 2.23529412 1.2        1.625      2.32       1.39130435]]\n"
     ]
    }
   ],
   "source": [
    "#Performing Indexwise + , - , * , /\n",
    "print(f\"Addition of the Matrices : \\n {a+b}\")\n",
    "print(f\"Subtraction of the Matrices : \\n {a-b}\")\n",
    "print(f\"Multiplication of the Matrices : \\n {a*b}\")\n",
    "print(f\"Division of the Matrices : \\n {a/b}\")"
   ]
  },
  {
   "cell_type": "code",
   "execution_count": 44,
   "metadata": {},
   "outputs": [
    {
     "name": "stdout",
     "output_type": "stream",
     "text": [
      "Square Root of the Matrix : \n",
      " [[7.21110255 5.47722558 7.61577311 7.54983444 6.63324958 6.63324958]\n",
      " [5.38516481 4.79583152 7.48331477 5.38516481 5.09901951 3.16227766]\n",
      " [6.         7.         7.41619849 7.74596669 6.08276253 6.244998  ]\n",
      " [7.07106781 6.32455532 7.48331477 3.16227766 6.92820323 7.48331477]\n",
      " [6.92820323 6.08276253 7.34846923 7.61577311 4.89897949 4.        ]\n",
      " [5.91607978 6.164414   4.24264069 3.60555128 7.61577311 5.65685425]]\n",
      "Log10 of the Matrix : \n",
      " [[1.71600334 1.47712125 1.76342799 1.75587486 1.64345268 1.64345268]\n",
      " [1.462398   1.36172784 1.74818803 1.462398   1.41497335 1.        ]\n",
      " [1.5563025  1.69019608 1.74036269 1.77815125 1.56820172 1.59106461]\n",
      " [1.69897    1.60205999 1.74818803 1.         1.68124124 1.74818803]\n",
      " [1.68124124 1.56820172 1.73239376 1.76342799 1.38021124 1.20411998]\n",
      " [1.54406804 1.5797836  1.25527251 1.11394335 1.76342799 1.50514998]]\n"
     ]
    }
   ],
   "source": [
    "#Generating the Sqrt and log10 of the matrix\n",
    "print(f\"Square Root of the Matrix : \\n {np.sqrt(a)}\")\n",
    "print(f\"Log10 of the Matrix : \\n {np.log10(a)}\")"
   ]
  },
  {
   "cell_type": "code",
   "execution_count": 45,
   "metadata": {},
   "outputs": [
    {
     "name": "stdout",
     "output_type": "stream",
     "text": [
      "Matrix : [[ 0  8  2 10]\n",
      " [ 2  9  6  0]\n",
      " [ 6 10  4 -2]\n",
      " [ 7 -1  0  1]\n",
      " [10  4 -1  3]\n",
      " [ 8  2  1  4]]\n",
      "\n",
      " Sum of all the Elements present in the Array : 93\n"
     ]
    }
   ],
   "source": [
    "#Finding the sum of all the elements in the Array/Matrix\n",
    "print(f\"Matrix : {c}\")\n",
    "print(f\"\\n Sum of all the Elements present in the Array : {np.sum(c)}\")"
   ]
  },
  {
   "cell_type": "code",
   "execution_count": 46,
   "metadata": {},
   "outputs": [
    {
     "name": "stdout",
     "output_type": "stream",
     "text": [
      "[[171968 169837  65354  80216]\n",
      " [106445 108639  41911  50229]\n",
      " [167282 160186  61872  76035]\n",
      " [164282 164080  62768  74184]\n",
      " [142152 139793  53699  67615]\n",
      " [122071 119396  47084  53868]]\n",
      "(6, 4)\n"
     ]
    }
   ],
   "source": [
    "#Performing actual Matrix Mul\n",
    "\n",
    "#1st way : More modern and Pythonic way using the @ operator\n",
    "result1=a @ b @ c\n",
    "print(result1)\n",
    "print(result1.shape)"
   ]
  },
  {
   "cell_type": "code",
   "execution_count": 47,
   "metadata": {},
   "outputs": [
    {
     "data": {
      "text/plain": [
       "array([[171968, 169837,  65354,  80216],\n",
       "       [106445, 108639,  41911,  50229],\n",
       "       [167282, 160186,  61872,  76035],\n",
       "       [164282, 164080,  62768,  74184],\n",
       "       [142152, 139793,  53699,  67615],\n",
       "       [122071, 119396,  47084,  53868]], dtype=int32)"
      ]
     },
     "execution_count": 47,
     "metadata": {},
     "output_type": "execute_result"
    }
   ],
   "source": [
    "#2nd Way : Using the dot function , a more legacy way \n",
    "np.dot(np.dot(a,b),c)  #Same answers but two diffrerent ways"
   ]
  },
  {
   "cell_type": "markdown",
   "metadata": {},
   "source": [
    "sum ,log , max ,min"
   ]
  },
  {
   "cell_type": "markdown",
   "metadata": {},
   "source": [
    "### **2.5 Creating Default and Custom Identity Matrix**\n",
    "* **np.eye(row,col,k,dtype)** ---> Use to create Custom Identity Matrix\n",
    "    * Offers more flexibility in creating matrices with ones on a specific diagonal.\n",
    "    Use np.eye when you need more control over the dimensions of the matrix or want to place the ones on a diagonal other than the main diagonal.\n",
    "* **np.identity(n)** ---> helps to create a simple default unit/identity matrix"
   ]
  },
  {
   "cell_type": "code",
   "execution_count": 48,
   "metadata": {},
   "outputs": [
    {
     "data": {
      "text/plain": [
       "array([[1., 0., 0., 0.],\n",
       "       [0., 1., 0., 0.],\n",
       "       [0., 0., 1., 0.],\n",
       "       [0., 0., 0., 1.]])"
      ]
     },
     "execution_count": 48,
     "metadata": {},
     "output_type": "execute_result"
    }
   ],
   "source": [
    "#Creating a bsic 4x4 unit Matrix\n",
    "T=np.identity(4)\n",
    "T"
   ]
  },
  {
   "cell_type": "code",
   "execution_count": 49,
   "metadata": {},
   "outputs": [
    {
     "data": {
      "text/plain": [
       "array([[1, 0, 0, 0],\n",
       "       [0, 2, 0, 0],\n",
       "       [0, 0, 3, 0],\n",
       "       [0, 0, 0, 4]])"
      ]
     },
     "execution_count": 49,
     "metadata": {},
     "output_type": "execute_result"
    }
   ],
   "source": [
    "#Creating a 4x4 matrix with the diagonal elements as 1,2,3,4\n",
    "np.diag([1,2,3,4])"
   ]
  },
  {
   "cell_type": "code",
   "execution_count": 50,
   "metadata": {},
   "outputs": [
    {
     "name": "stdout",
     "output_type": "stream",
     "text": [
      "[[0. 1. 0. 0.]\n",
      " [0. 0. 1. 0.]\n",
      " [0. 0. 0. 1.]]\n",
      "\n",
      " [[0. 0. 0. 0.]\n",
      " [1. 0. 0. 0.]\n",
      " [0. 1. 0. 0.]]\n"
     ]
    }
   ],
   "source": [
    "#creating a custom 4x4 Unit Matrix\n",
    "print(np.eye(3,4,k=1))  #k is the diagonal index\n",
    "print(\"\\n\",np.eye(3,4,k=-1)) \n",
    " # \"\"\" Takes two optional arguments:\n",
    "#n (integer): Similar to np.identity, specifies the number of rows in the resulting matrix.\n",
    "#m (integer, optional): Specifies the number of columns in the resulting matrix (defaults to n for a square matrix).\n",
    "#k (integer, optional): Controls the position of the diagonal with ones. \n",
    "#By default (k=0), it places ones on the main diagonal. \n",
    "#Positive values shift the diagonal upwards, while negative values shift it downwards.\"\"\""
   ]
  },
  {
   "cell_type": "markdown",
   "metadata": {},
   "source": [
    "## **03. Numpy Advance 02**"
   ]
  },
  {
   "cell_type": "code",
   "execution_count": 124,
   "metadata": {},
   "outputs": [],
   "source": [
    "arr1 = np.random.randint(1, 21, (4,4))\n",
    "arr2 = np.random.randint(4, 8, (3,3))\n",
    "arr3= np.random.rand(3,5)"
   ]
  },
  {
   "cell_type": "markdown",
   "metadata": {},
   "source": [
    "### **3.1 Expanding and Reducing the Dimension of an Array**\n",
    "* **arr_obj.flatten()** --> Return a copy of the array collapsed into one dimension.\n",
    "\n",
    "* **np.expand_dims(arr_obj,axis=required axis)** ---> increases the dimension by 1 at provoided axis\n",
    "  * Expand the shape of an array.\n",
    "    Insert a new axis that will appear at the `axis` position in the expanded\n",
    "    array shape.\n",
    "\n",
    "* **np.squeeze(arr_obj,axis=None)** ---> Remove axes of length one from `arr_obj`.\n",
    "* **np.repeat(arr_obj,n,axes=)** ---> repeat(a, repeats, axis=None)\n",
    "    Repeat each element of an array after themselves\n",
    " "
   ]
  },
  {
   "cell_type": "code",
   "execution_count": 52,
   "metadata": {},
   "outputs": [
    {
     "name": "stdout",
     "output_type": "stream",
     "text": [
      "Matrix : [[5 4 7]\n",
      " [4 5 4]\n",
      " [5 5 6]]\n",
      "\n",
      " Shape of the Matrix : (3, 3)\n",
      "\n",
      " Size of the Matrix : 9\n",
      "\n",
      "New Expanded Matrix : \n",
      " [[[5]\n",
      "  [4]\n",
      "  [7]]\n",
      "\n",
      " [[4]\n",
      "  [5]\n",
      "  [4]]\n",
      "\n",
      " [[5]\n",
      "  [5]\n",
      "  [6]]]\n",
      "\n",
      " Shape of the Expanded Matrix : (3, 3, 1)\n"
     ]
    }
   ],
   "source": [
    "print(f\"Matrix : {arr2}\")\n",
    "print(f\"\\n Shape of the Matrix : {arr2.shape}\")\n",
    "print(f\"\\n Size of the Matrix : {arr2.size}\")\n",
    "print(\"\")\n",
    "#Increasing the dimesnion of the arr2 by 1\n",
    "print(f\"New Expanded Matrix : \\n {np.expand_dims(arr2, axis=2)}\")\n",
    "print(f\"\\n Shape of the Expanded Matrix : {np.expand_dims(arr2, axis=2).shape}\")"
   ]
  },
  {
   "cell_type": "code",
   "execution_count": 53,
   "metadata": {},
   "outputs": [
    {
     "data": {
      "text/plain": [
       "array([[5, 4, 7],\n",
       "       [4, 5, 4],\n",
       "       [5, 5, 6]], dtype=int32)"
      ]
     },
     "execution_count": 53,
     "metadata": {},
     "output_type": "execute_result"
    }
   ],
   "source": [
    "arr2"
   ]
  },
  {
   "cell_type": "code",
   "execution_count": 54,
   "metadata": {},
   "outputs": [
    {
     "data": {
      "text/plain": [
       "array([[5, 5, 5, 4, 4, 4, 7, 7, 7],\n",
       "       [4, 4, 4, 5, 5, 5, 4, 4, 4],\n",
       "       [5, 5, 5, 5, 5, 5, 6, 6, 6]], dtype=int32)"
      ]
     },
     "execution_count": 54,
     "metadata": {},
     "output_type": "execute_result"
    }
   ],
   "source": [
    "#Reapeating the elements of arr2 column wise 3 times\n",
    "np.repeat(arr2,3,axis=1)"
   ]
  },
  {
   "cell_type": "markdown",
   "metadata": {},
   "source": [
    "### **3.2 Rolling an Array along a particluar axis or particular time**"
   ]
  },
  {
   "cell_type": "code",
   "execution_count": 55,
   "metadata": {},
   "outputs": [
    {
     "name": "stdout",
     "output_type": "stream",
     "text": [
      "Help on _ArrayFunctionDispatcher in module numpy:\n",
      "\n",
      "roll(a, shift, axis=None)\n",
      "    Roll array elements along a given axis.\n",
      "\n",
      "    Elements that roll beyond the last position are re-introduced at\n",
      "    the first.\n",
      "\n",
      "    Parameters\n",
      "    ----------\n",
      "    a : array_like\n",
      "        Input array.\n",
      "    shift : int or tuple of ints\n",
      "        The number of places by which elements are shifted.  If a tuple,\n",
      "        then `axis` must be a tuple of the same size, and each of the\n",
      "        given axes is shifted by the corresponding number.  If an int\n",
      "        while `axis` is a tuple of ints, then the same value is used for\n",
      "        all given axes.\n",
      "    axis : int or tuple of ints, optional\n",
      "        Axis or axes along which elements are shifted.  By default, the\n",
      "        array is flattened before shifting, after which the original\n",
      "        shape is restored.\n",
      "\n",
      "    Returns\n",
      "    -------\n",
      "    res : ndarray\n",
      "        Output array, with the same shape as `a`.\n",
      "\n",
      "    See Also\n",
      "    --------\n",
      "    rollaxis : Roll the specified axis backwards, until it lies in a\n",
      "               given position.\n",
      "\n",
      "    Notes\n",
      "    -----\n",
      "    Supports rolling over multiple dimensions simultaneously.\n",
      "\n",
      "    Examples\n",
      "    --------\n",
      "    >>> import numpy as np\n",
      "    >>> x = np.arange(10)\n",
      "    >>> np.roll(x, 2)\n",
      "    array([8, 9, 0, 1, 2, 3, 4, 5, 6, 7])\n",
      "    >>> np.roll(x, -2)\n",
      "    array([2, 3, 4, 5, 6, 7, 8, 9, 0, 1])\n",
      "\n",
      "    >>> x2 = np.reshape(x, (2, 5))\n",
      "    >>> x2\n",
      "    array([[0, 1, 2, 3, 4],\n",
      "           [5, 6, 7, 8, 9]])\n",
      "    >>> np.roll(x2, 1)\n",
      "    array([[9, 0, 1, 2, 3],\n",
      "           [4, 5, 6, 7, 8]])\n",
      "    >>> np.roll(x2, -1)\n",
      "    array([[1, 2, 3, 4, 5],\n",
      "           [6, 7, 8, 9, 0]])\n",
      "    >>> np.roll(x2, 1, axis=0)\n",
      "    array([[5, 6, 7, 8, 9],\n",
      "           [0, 1, 2, 3, 4]])\n",
      "    >>> np.roll(x2, -1, axis=0)\n",
      "    array([[5, 6, 7, 8, 9],\n",
      "           [0, 1, 2, 3, 4]])\n",
      "    >>> np.roll(x2, 1, axis=1)\n",
      "    array([[4, 0, 1, 2, 3],\n",
      "           [9, 5, 6, 7, 8]])\n",
      "    >>> np.roll(x2, -1, axis=1)\n",
      "    array([[1, 2, 3, 4, 0],\n",
      "           [6, 7, 8, 9, 5]])\n",
      "    >>> np.roll(x2, (1, 1), axis=(1, 0))\n",
      "    array([[9, 5, 6, 7, 8],\n",
      "           [4, 0, 1, 2, 3]])\n",
      "    >>> np.roll(x2, (2, 1), axis=(1, 0))\n",
      "    array([[8, 9, 5, 6, 7],\n",
      "           [3, 4, 0, 1, 2]])\n",
      "\n"
     ]
    }
   ],
   "source": [
    "help(np.roll)"
   ]
  },
  {
   "cell_type": "code",
   "execution_count": 56,
   "metadata": {},
   "outputs": [
    {
     "data": {
      "text/plain": [
       "array([[ 7, 14, 17,  4],\n",
       "       [ 3,  5, 15, 12],\n",
       "       [13,  2,  6,  8],\n",
       "       [16, 11, 11,  9]], dtype=int32)"
      ]
     },
     "execution_count": 56,
     "metadata": {},
     "output_type": "execute_result"
    }
   ],
   "source": [
    "arr1"
   ]
  },
  {
   "cell_type": "code",
   "execution_count": 57,
   "metadata": {},
   "outputs": [
    {
     "data": {
      "text/plain": [
       "array([[11,  9, 16, 11],\n",
       "       [17,  4,  7, 14],\n",
       "       [15, 12,  3,  5],\n",
       "       [ 6,  8, 13,  2]], dtype=int32)"
      ]
     },
     "execution_count": 57,
     "metadata": {},
     "output_type": "execute_result"
    }
   ],
   "source": [
    "np.roll(arr1,(2,1),axis=(1,0 )) #Rolling the elements of the array by 2 and 1 in the 1st and 2nd axis respectively"
   ]
  },
  {
   "cell_type": "code",
   "execution_count": 58,
   "metadata": {},
   "outputs": [
    {
     "data": {
      "text/plain": [
       "array([[ 9,  7, 14, 17],\n",
       "       [ 4,  3,  5, 15],\n",
       "       [12, 13,  2,  6],\n",
       "       [ 8, 16, 11, 11]], dtype=int32)"
      ]
     },
     "execution_count": 58,
     "metadata": {},
     "output_type": "execute_result"
    }
   ],
   "source": [
    "np.roll(arr1,1)"
   ]
  },
  {
   "cell_type": "markdown",
   "metadata": {},
   "source": [
    "### **3.3 Some More Mathematical Operations**"
   ]
  },
  {
   "cell_type": "code",
   "execution_count": 59,
   "metadata": {},
   "outputs": [
    {
     "data": {
      "text/plain": [
       "array([[ 7, 14, 17,  4],\n",
       "       [ 3,  5, 15, 12],\n",
       "       [13,  2,  6,  8],\n",
       "       [16, 11, 11,  9]], dtype=int32)"
      ]
     },
     "execution_count": 59,
     "metadata": {},
     "output_type": "execute_result"
    }
   ],
   "source": [
    "arr1"
   ]
  },
  {
   "cell_type": "code",
   "execution_count": 60,
   "metadata": {},
   "outputs": [
    {
     "data": {
      "text/plain": [
       "array([[5, 4, 7],\n",
       "       [4, 5, 4],\n",
       "       [5, 5, 6]], dtype=int32)"
      ]
     },
     "execution_count": 60,
     "metadata": {},
     "output_type": "execute_result"
    }
   ],
   "source": [
    "arr2"
   ]
  },
  {
   "cell_type": "code",
   "execution_count": 61,
   "metadata": {},
   "outputs": [
    {
     "ename": "ValueError",
     "evalue": "operands could not be broadcast together with shapes (4,4) (3,3) ",
     "output_type": "error",
     "traceback": [
      "\u001b[1;31m---------------------------------------------------------------------------\u001b[0m",
      "\u001b[1;31mValueError\u001b[0m                                Traceback (most recent call last)",
      "Cell \u001b[1;32mIn[61], line 1\u001b[0m\n\u001b[1;32m----> 1\u001b[0m \u001b[38;5;28mprint\u001b[39m(\u001b[43marr1\u001b[49m\u001b[43m \u001b[49m\u001b[38;5;241;43m^\u001b[39;49m\u001b[43m \u001b[49m\u001b[43marr2\u001b[49m) \u001b[38;5;66;03m#Bitwise XOR operation on the two arrays\u001b[39;00m\n\u001b[0;32m      2\u001b[0m \u001b[38;5;28mprint\u001b[39m(\u001b[38;5;124m\"\u001b[39m\u001b[38;5;130;01m\\n\u001b[39;00m\u001b[38;5;124m\"\u001b[39m,arr1 \u001b[38;5;241m|\u001b[39m arr2) \u001b[38;5;66;03m#Bitwise OR operation on the two arrays\u001b[39;00m\n",
      "\u001b[1;31mValueError\u001b[0m: operands could not be broadcast together with shapes (4,4) (3,3) "
     ]
    }
   ],
   "source": [
    "print(arr1 ^ arr2) #Bitwise XOR operation on the two arrays\n",
    "print(\"\\n\",arr1 | arr2) #Bitwise OR operation on the two arrays"
   ]
  },
  {
   "cell_type": "code",
   "execution_count": null,
   "metadata": {},
   "outputs": [
    {
     "name": "stdout",
     "output_type": "stream",
     "text": [
      "Mean of the Array : 1.8888888888888888\n",
      "Median of the Array : 1.0\n",
      "Standard Deviation of the Array : 1.0999438818457405\n",
      "Variance of the Array : 1.2098765432098766\n"
     ]
    }
   ],
   "source": [
    "#Finding some basic statistics of the array\n",
    "print(f\"Mean of the Array : {np.mean(arr1)}\")\n",
    "print(f\"Median of the Array : {np.median(arr1)}\")\n",
    "print(f\"Standard Deviation of the Array : {np.std(arr1)}\")\n",
    "print(f\"Variance of the Array : {np.var(arr1)}\")"
   ]
  },
  {
   "cell_type": "code",
   "execution_count": null,
   "metadata": {},
   "outputs": [
    {
     "name": "stdout",
     "output_type": "stream",
     "text": [
      "[[ 9  4  1]\n",
      " [ 1 16  9]\n",
      " [ 1  1  1]]\n",
      "[[ 9  4  1]\n",
      " [ 1 16  9]\n",
      " [ 1  1  1]]\n"
     ]
    }
   ],
   "source": [
    "#Squaring a matrix\n",
    "print(arr1**2)  #1st Method\n",
    "\n",
    "print(np.square(arr1))  #2nd Method"
   ]
  },
  {
   "cell_type": "code",
   "execution_count": null,
   "metadata": {},
   "outputs": [
    {
     "data": {
      "text/plain": [
       "array([[3, 2, 1],\n",
       "       [1, 4, 3],\n",
       "       [1, 1, 1]], dtype=int32)"
      ]
     },
     "execution_count": 89,
     "metadata": {},
     "output_type": "execute_result"
    }
   ],
   "source": [
    "#Perfroming modulus divison of arr1 and arr2\n",
    "np.mod(arr1,arr2)"
   ]
  },
  {
   "cell_type": "markdown",
   "metadata": {},
   "source": [
    "### **3.3 Sorting and Custom Search in Array**\n",
    "\n",
    "* **sort(a, axis=-1, kind=None, order=None)** ----> Return a sorted copy of an array.\n",
    "* a : array_like Array to be sorted.\n",
    "* axis : int or None, optional  Axis along which to sort. If None, the array is flattened before\n",
    "* kind : {'quicksort', 'mergesort', 'heapsort', 'stable'}, optionalSorting algorithm. The default is 'quicksort'. Note that both 'stable' and 'mergesort' use timsort or radix sort under the covers and, in general, the actual implementation will vary with data type. The 'mergesort' option is retained for backwards compatibility.\n",
    "*  order : str or list of str, optional When `a` is an array with fields defined, this argument specifies which fields to compare first, second, etc.  A single field can be specified as a string, and not all fields need be specified, but unspecified fields will still be used, in the order in which they come up in the dtype, to break ties."
   ]
  },
  {
   "cell_type": "code",
   "execution_count": null,
   "metadata": {},
   "outputs": [
    {
     "data": {
      "text/plain": [
       "array([[ 4,  8, 19, 10],\n",
       "       [20,  1,  4, 12],\n",
       "       [ 7, 17,  8, 18],\n",
       "       [ 7, 16,  9, 16]], dtype=int32)"
      ]
     },
     "execution_count": 95,
     "metadata": {},
     "output_type": "execute_result"
    }
   ],
   "source": [
    "arr1"
   ]
  },
  {
   "cell_type": "code",
   "execution_count": null,
   "metadata": {},
   "outputs": [
    {
     "name": "stdout",
     "output_type": "stream",
     "text": [
      "[[ 4  1  4 10]\n",
      " [ 7  8  8 12]\n",
      " [ 7 16  9 16]\n",
      " [20 17 19 18]]\n",
      "\n",
      " [[ 4  8 10 19]\n",
      " [ 1  4 12 20]\n",
      " [ 7  8 17 18]\n",
      " [ 7  9 16 16]]\n"
     ]
    }
   ],
   "source": [
    "print(np.sort(arr1,axis=0))  #Sorting the array column wise\n",
    "print(\"\\n\",np.sort(arr1,axis=1))  #Sorting the array row wise  #Default axis is 1"
   ]
  },
  {
   "cell_type": "code",
   "execution_count": null,
   "metadata": {},
   "outputs": [
    {
     "name": "stdout",
     "output_type": "stream",
     "text": [
      "[(b'Galahad', 1.7, 38) (b'Lancelot', 1.9, 38) (b'Arthur', 1.8, 41)]\n",
      "D.type of the array A :  [('name', 'S10'), ('height', '<f8'), ('age', '<i8')]\n"
     ]
    }
   ],
   "source": [
    "#Custom sorting based on required parameters/orders\n",
    "# Use the `order` keyword to specify a field to use when sorting a structured array:\n",
    "\n",
    "values = [('Arthur', 1.8, 41), ('Lancelot', 1.9, 38),('Galahad', 1.7, 38)]\n",
    "dtype = [('name', 'S10'), ('height', float), ('age', int)]  #Creating a custom data type\n",
    "\n",
    "A=np.array(values,dtype=dtype)\n",
    "print(np.sort(A,order=['age', 'height']))   # Sort by age, then height if ages are equal:\n",
    "print(\"D.type of the array A : \",A.dtype)"
   ]
  },
  {
   "cell_type": "code",
   "execution_count": null,
   "metadata": {},
   "outputs": [
    {
     "data": {
      "text/plain": [
       "16"
      ]
     },
     "execution_count": 132,
     "metadata": {},
     "output_type": "execute_result"
    }
   ],
   "source": [
    "np.count_nonzero(arr1)  #Counting the number of non-zero elements in the array"
   ]
  },
  {
   "cell_type": "code",
   "execution_count": null,
   "metadata": {},
   "outputs": [
    {
     "data": {
      "text/plain": [
       "array([[ 67108864, 134217728, 318767104, 167772160],\n",
       "       [335544320,  16777216,  67108864, 201326592],\n",
       "       [117440512, 285212672, 134217728, 301989888],\n",
       "       [117440512, 268435456, 150994944, 268435456]], dtype=int32)"
      ]
     },
     "execution_count": 107,
     "metadata": {},
     "output_type": "execute_result"
    }
   ],
   "source": [
    "#byteswap\n",
    "arr1.byteswap()"
   ]
  },
  {
   "cell_type": "markdown",
   "metadata": {},
   "source": [
    "### **3.4 Matrix and Linear-Algebra**"
   ]
  },
  {
   "cell_type": "code",
   "execution_count": 62,
   "metadata": {},
   "outputs": [],
   "source": [
    "import numpy.linalg as la\n",
    "import numpy.matlib as mat"
   ]
  },
  {
   "cell_type": "code",
   "execution_count": 63,
   "metadata": {},
   "outputs": [
    {
     "data": {
      "text/plain": [
       "array([ 7,  8,  3,  7, 10], dtype=int32)"
      ]
     },
     "execution_count": 63,
     "metadata": {},
     "output_type": "execute_result"
    }
   ],
   "source": [
    "test=np.random.randint(1,11,size=5)\n",
    "test"
   ]
  },
  {
   "cell_type": "code",
   "execution_count": 64,
   "metadata": {},
   "outputs": [
    {
     "data": {
      "text/plain": [
       "array([[ 7,  8,  3,  7, 10]], dtype=int32)"
      ]
     },
     "execution_count": 64,
     "metadata": {},
     "output_type": "execute_result"
    }
   ],
   "source": [
    "test=np.expand_dims(test,axis=0)\n",
    "test  #Row Vector"
   ]
  },
  {
   "cell_type": "code",
   "execution_count": 65,
   "metadata": {},
   "outputs": [
    {
     "data": {
      "text/plain": [
       "array([[ 7],\n",
       "       [ 8],\n",
       "       [ 3],\n",
       "       [ 7],\n",
       "       [10]], dtype=int32)"
      ]
     },
     "execution_count": 65,
     "metadata": {},
     "output_type": "execute_result"
    }
   ],
   "source": [
    "test.T  #Transposing it to a column vector"
   ]
  },
  {
   "cell_type": "code",
   "execution_count": 66,
   "metadata": {},
   "outputs": [
    {
     "name": "stdout",
     "output_type": "stream",
     "text": [
      "Coefficient Matrix : [[2 1 3]\n",
      " [3 0 1]\n",
      " [1 2 5]] \n",
      " RHS Matrix : [[ 5]\n",
      " [-4]\n",
      " [14]]\n"
     ]
    }
   ],
   "source": [
    "A=np.array([[2,1,3],[3,0,1],[1,2,5]])\n",
    "B=np.array([[5],[-4],[14]])\n",
    "print(f\"Coefficient Matrix : {A} \\n RHS Matrix : {B}\")"
   ]
  },
  {
   "cell_type": "code",
   "execution_count": null,
   "metadata": {},
   "outputs": [
    {
     "name": "stdout",
     "output_type": "stream",
     "text": [
      "Matrix is not invertible Singular matrix\n",
      "Determinant of the Coefficient Matrix : 0.0\n",
      "Rank of the Coefficient Matrix : 2\n",
      "Eigen Values of the Coefficient Matrix : EigResult(eigenvalues=array([1.99840144e-15, 2.98437881e-01, 6.70156212e+00]), eigenvectors=array([[-0.13018891, -0.22789804,  0.55503377],\n",
      "       [-0.91132238, -0.87758544,  0.36033844],\n",
      "       [ 0.39056673,  0.42178937,  0.7497291 ]]))\n",
      "\n",
      " Eigen Vectors of the Coefficient Matrix : EigResult(eigenvalues=array([1.99840144e-15, 2.98437881e-01, 6.70156212e+00]), eigenvectors=array([[-0.13018891, -0.22789804,  0.55503377],\n",
      "       [-0.91132238, -0.87758544,  0.36033844],\n",
      "       [ 0.39056673,  0.42178937,  0.7497291 ]]))\n"
     ]
    }
   ],
   "source": [
    "try:\n",
    "    print(f\"Inverse of the Coefficient Matrix : \\n {la.inv(A)}\")\n",
    "except Exception as e:\n",
    "    print(\"Matrix is not invertible\",e)\n",
    "finally:\n",
    "    # print(f\"Solution of the Linear Equation : \\n {la.inv(A) @ B}\")\n",
    "    print(f\"Determinant of the Coefficient Matrix : {la.det(A)}\")\n",
    "    print(f\"Rank of the Coefficient Matrix : {la.matrix_rank(A)}\")\n",
    "    print(f\"Eigen Values of the Coefficient Matrix : {la.eig(A)}\")\n",
    "    #print(f\"\\n Eigen Vectors of the Coefficient Matrix : {la.eig(A)}\")"
   ]
  },
  {
   "cell_type": "code",
   "execution_count": null,
   "metadata": {},
   "outputs": [],
   "source": [
    "la.solve(A,B)  #solve method is only able to solve matrix with full rank , i.e |A|!=0\n",
    "#This will raise error if the matrix is not invertible"
   ]
  },
  {
   "cell_type": "code",
   "execution_count": 71,
   "metadata": {},
   "outputs": [
    {
     "name": "stdout",
     "output_type": "stream",
     "text": [
      "Diagonal Matrix : \n",
      " [[3 0 0 0]\n",
      " [0 6 0 0]\n",
      " [0 0 7 0]\n",
      " [0 0 0 9]]\n"
     ]
    }
   ],
   "source": [
    "#Computing the rank,trace,det,inverse,eigen value and eigen vector of a diagonal matrix\n",
    "dia=np.diag([3,6,7,9])\n",
    "print(f\"Diagonal Matrix : \\n {dia}\")"
   ]
  },
  {
   "cell_type": "code",
   "execution_count": 73,
   "metadata": {},
   "outputs": [
    {
     "name": "stdout",
     "output_type": "stream",
     "text": [
      "Rank of the Diagonal Matrix : 4\n",
      "Trace of the Matrix 25\n",
      "Determinant of the Matrix : 1133.9999999999998\n",
      "Eigen Values of the Matrix : \n",
      " EigResult(eigenvalues=array([3., 6., 7., 9.]), eigenvectors=array([[1., 0., 0., 0.],\n",
      "       [0., 1., 0., 0.],\n",
      "       [0., 0., 1., 0.],\n",
      "       [0., 0., 0., 1.]]))\n"
     ]
    }
   ],
   "source": [
    "print(f\"Rank of the Diagonal Matrix : {la.matrix_rank(dia)}\")  #Rank of the diagonal matrix\n",
    "print(f\"Trace of the Matrix {la.trace(dia)}\")  #Trace of the matrix\n",
    "print(f\"Determinant of the Matrix : {la.det(dia)}\")  #Determinant of the matrix\n",
    "print(f\"Eigen Values of the Matrix : \\n {la.eig(dia)}\")  #Eigen Values of the matrix"
   ]
  },
  {
   "cell_type": "code",
   "execution_count": 102,
   "metadata": {},
   "outputs": [
    {
     "data": {
      "text/plain": [
       "array([[ 7, 14, 17,  4],\n",
       "       [ 3,  5, 15, 12],\n",
       "       [13,  2,  6,  8],\n",
       "       [16, 11, 11,  9],\n",
       "       [ 7, 14, 17,  4],\n",
       "       [ 3,  5, 15, 12],\n",
       "       [13,  2,  6,  8],\n",
       "       [16, 11, 11,  9]], dtype=int32)"
      ]
     },
     "execution_count": 102,
     "metadata": {},
     "output_type": "execute_result"
    }
   ],
   "source": [
    "arr5=np.vstack((arr1,arr1))\n",
    "arr5"
   ]
  },
  {
   "cell_type": "code",
   "execution_count": 88,
   "metadata": {},
   "outputs": [
    {
     "data": {
      "text/plain": [
       "array([[ 7, 14, 17,  4],\n",
       "       [13,  2,  6,  8],\n",
       "       [ 7, 14, 17,  4]], dtype=int32)"
      ]
     },
     "execution_count": 88,
     "metadata": {},
     "output_type": "execute_result"
    }
   ],
   "source": [
    "arr5[0:6:2]  #Starting from 0th index and going till 5th (6-1) index with a step size of 2"
   ]
  },
  {
   "cell_type": "markdown",
   "metadata": {},
   "source": [
    "### **3.5 Extra's**\n",
    "\n",
    "* **Adding / Removing Elements from a Numpy array**\n",
    "    * **np.append(arr_obj,(insert_object))**\n",
    "    * **np.insert(arr_obj,position,insert_val/tuple)**\n",
    "    * **delete(arr, obj, axis=None)** Return a new array with sub-arrays along an axis deleted.\n",
    "\n",
    "* **Changing the DataType of the Array** ---> arr_obj.astype(<new_dtype>)"
   ]
  },
  {
   "cell_type": "code",
   "execution_count": 104,
   "metadata": {},
   "outputs": [
    {
     "name": "stdout",
     "output_type": "stream",
     "text": [
      "Initial Array : \n",
      " [[ 7 14 17  4]\n",
      " [ 3  5 15 12]\n",
      " [13  2  6  8]\n",
      " [16 11 11  9]\n",
      " [ 7 14 17  4]\n",
      " [ 3  5 15 12]\n",
      " [13  2  6  8]\n",
      " [16 11 11  9]\n",
      " [99  4 99  4]]\n",
      "inital Shape of the Array : (9, 4)\n",
      "New Array : \n",
      " [[ 7 14 17  4]\n",
      " [ 3  5 15 12]\n",
      " [13  2  6  8]\n",
      " [16 11 11  9]\n",
      " [ 7 14 17  4]\n",
      " [ 3  5 15 12]\n",
      " [13  2  6  8]\n",
      " [16 11 11  9]\n",
      " [99  4 99  4]\n",
      " [99  4 99  4]]\n",
      "New Shape of the Array : (10, 4)\n"
     ]
    }
   ],
   "source": [
    "print(f\"Initial Array : \\n {arr5}\")\n",
    "print(f\"inital Shape of the Array : {arr5.shape}\")\n",
    "#Matrix after adding two new rows\n",
    "arr5=np.append(arr5,[[99,4,99,4]],axis=0)  #Append is not an in-place object modifer\n",
    "print(f\"New Array : \\n {arr5}\")\n",
    "print(f\"New Shape of the Array : {arr5.shape}\")"
   ]
  },
  {
   "cell_type": "code",
   "execution_count": 106,
   "metadata": {},
   "outputs": [],
   "source": [
    "arr5=np.insert(arr5,2,[1,2,3,4],axis=0)  #Inserting a new row at the 2nd index of the array\n",
    "arr5=np.insert(arr5,4,[1,6,5,4,7,8,9,6,3,1,2],axis=1) #Inserting a new column at the 4th index of the array"
   ]
  },
  {
   "cell_type": "code",
   "execution_count": 110,
   "metadata": {},
   "outputs": [
    {
     "name": "stdout",
     "output_type": "stream",
     "text": [
      "Shape of Array before deletion : (11, 5)\n",
      "Shape of Array after deletion : (10, 4)\n",
      "New Array : \n",
      " [[ 7 14  4  1]\n",
      " [ 3  5 12  6]\n",
      " [13  2  8  4]\n",
      " [16 11  9  7]\n",
      " [ 7 14  4  8]\n",
      " [ 3  5 12  9]\n",
      " [13  2  8  6]\n",
      " [16 11  9  3]\n",
      " [99  4  4  1]\n",
      " [99  4  4  2]]\n"
     ]
    }
   ],
   "source": [
    "#Deleting the 3rd row and the 3rd column of the array\n",
    "print(f\"Shape of Array before deletion : {arr5.shape}\")\n",
    "arr5=np.delete(arr5,2,axis=0)  #This is not an inplace object modifier , it will return a new array\n",
    "arr5=np.delete(arr5,2,axis=1)\n",
    "print(f\"Shape of Array after deletion : {arr5.shape}\")\n",
    "print(f\"New Array : \\n {arr5}\")"
   ]
  },
  {
   "cell_type": "code",
   "execution_count": 114,
   "metadata": {},
   "outputs": [
    {
     "name": "stdout",
     "output_type": "stream",
     "text": [
      "Data Type of the Array : int64\n"
     ]
    },
    {
     "data": {
      "text/plain": [
       "array([[ 7.+0.j, 14.+0.j,  4.+0.j,  1.+0.j],\n",
       "       [ 3.+0.j,  5.+0.j, 12.+0.j,  6.+0.j],\n",
       "       [13.+0.j,  2.+0.j,  8.+0.j,  4.+0.j],\n",
       "       [16.+0.j, 11.+0.j,  9.+0.j,  7.+0.j],\n",
       "       [ 7.+0.j, 14.+0.j,  4.+0.j,  8.+0.j],\n",
       "       [ 3.+0.j,  5.+0.j, 12.+0.j,  9.+0.j],\n",
       "       [13.+0.j,  2.+0.j,  8.+0.j,  6.+0.j],\n",
       "       [16.+0.j, 11.+0.j,  9.+0.j,  3.+0.j],\n",
       "       [99.+0.j,  4.+0.j,  4.+0.j,  1.+0.j],\n",
       "       [99.+0.j,  4.+0.j,  4.+0.j,  2.+0.j]])"
      ]
     },
     "execution_count": 114,
     "metadata": {},
     "output_type": "execute_result"
    }
   ],
   "source": [
    "#Changing the data type of the arr5 from int64 to complex\n",
    "print(f\"Data Type of the Array : {arr5.dtype}\")\n",
    "arr5.astype(complex)  #Not an inplace object modifier"
   ]
  },
  {
   "cell_type": "code",
   "execution_count": 117,
   "metadata": {},
   "outputs": [
    {
     "name": "stdout",
     "output_type": "stream",
     "text": [
      "[276  72  74  47]\n",
      "[ 26  26  27  43  33  29  29  39 108 109]\n"
     ]
    }
   ],
   "source": [
    "print(np.sum(arr5,axis=0) ) #Finding the sum of the columns of the array\n",
    "print(np.sum(arr5,axis=1)) #Finding the sum of the rows of the array"
   ]
  },
  {
   "cell_type": "code",
   "execution_count": 125,
   "metadata": {},
   "outputs": [
    {
     "name": "stdout",
     "output_type": "stream",
     "text": [
      "[[0.14393671 0.55893984 0.49242142 0.62148133 0.4377906 ]\n",
      " [0.45941151 0.49869793 0.04930766 0.39297389 0.62791816]\n",
      " [0.17729074 0.94662743 0.78688006 0.60481618 0.26588951]]\n",
      "\n",
      "  [[0.14393671 0.55893984 0.49242142 0.62148133 0.4377906 ]\n",
      " [0.45941151 0.49869793 0.04930766 0.39297389 0.62791816]\n",
      " [0.17729074 0.94662743 0.78688006 0.60481618 0.26588951]\n",
      " [1.         2.         3.         4.         5.        ]]\n",
      "(4, 5)\n"
     ]
    }
   ],
   "source": [
    "print(arr3)\n",
    "arr3=np.append(arr3,[[1,2,3,4,5]],axis=0)\n",
    "print(\"\\n \",arr3)\n",
    "print(arr3.shape)"
   ]
  },
  {
   "cell_type": "code",
   "execution_count": null,
   "metadata": {},
   "outputs": [
    {
     "data": {
      "text/plain": [
       "array([[ 9.14848108, 16.68085958, 10.2847775 , 16.2712685 , 17.9189464 ],\n",
       "       [10.85635659, 27.52983835, 29.16636329, 35.08710758, 37.64363666],\n",
       "       [ 8.20832621, 23.83663322, 24.79513429, 29.70373453, 29.07423015],\n",
       "       [15.95213067, 36.94836151, 36.5030476 , 47.70975972, 51.30475485],\n",
       "       [16.14848108, 30.68085958, 31.2847775 , 44.2712685 , 52.9189464 ],\n",
       "       [13.85635659, 33.52983835, 38.16636329, 47.08710758, 52.64363666],\n",
       "       [10.20832621, 27.83663322, 30.79513429, 37.70373453, 39.07423015],\n",
       "       [11.95213067, 28.94836151, 24.5030476 , 31.70975972, 31.30475485],\n",
       "       [17.7965435 , 63.11634547, 55.09447178, 69.51781222, 51.91649987],\n",
       "       [18.7965435 , 65.11634547, 58.09447178, 73.51781222, 56.91649987]])"
      ]
     },
     "execution_count": 126,
     "metadata": {},
     "output_type": "execute_result"
    }
   ],
   "source": [
    "arr5 @ arr3  #same as np.dot(arr5,arr3)"
   ]
  },
  {
   "cell_type": "code",
   "execution_count": null,
   "metadata": {},
   "outputs": [
    {
     "data": {
      "text/plain": [
       "array([[ 9.14848108, 16.68085958, 10.2847775 , 16.2712685 , 17.9189464 ],\n",
       "       [10.85635659, 27.52983835, 29.16636329, 35.08710758, 37.64363666],\n",
       "       [ 8.20832621, 23.83663322, 24.79513429, 29.70373453, 29.07423015],\n",
       "       [15.95213067, 36.94836151, 36.5030476 , 47.70975972, 51.30475485],\n",
       "       [16.14848108, 30.68085958, 31.2847775 , 44.2712685 , 52.9189464 ],\n",
       "       [13.85635659, 33.52983835, 38.16636329, 47.08710758, 52.64363666],\n",
       "       [10.20832621, 27.83663322, 30.79513429, 37.70373453, 39.07423015],\n",
       "       [11.95213067, 28.94836151, 24.5030476 , 31.70975972, 31.30475485],\n",
       "       [17.7965435 , 63.11634547, 55.09447178, 69.51781222, 51.91649987],\n",
       "       [18.7965435 , 65.11634547, 58.09447178, 73.51781222, 56.91649987]])"
      ]
     },
     "execution_count": 127,
     "metadata": {},
     "output_type": "execute_result"
    }
   ],
   "source": [
    "np.dot(arr5,arr3)  #same as arr5 @ arr3"
   ]
  },
  {
   "cell_type": "code",
   "execution_count": 134,
   "metadata": {},
   "outputs": [
    {
     "data": {
      "text/plain": [
       "array([[2.07177771e-02, 3.12413743e-01, 2.42478858e-01, 3.86239047e-01,\n",
       "        1.91660608e-01],\n",
       "       [2.11058935e-01, 2.48699622e-01, 2.43124582e-03, 1.54428478e-01,\n",
       "        3.94281210e-01],\n",
       "       [3.14320073e-02, 8.96103497e-01, 6.19180225e-01, 3.65802609e-01,\n",
       "        7.06972302e-02],\n",
       "       [1.00000000e+00, 4.00000000e+00, 9.00000000e+00, 1.60000000e+01,\n",
       "        2.50000000e+01]])"
      ]
     },
     "execution_count": 134,
     "metadata": {},
     "output_type": "execute_result"
    }
   ],
   "source": [
    "np.multiply(arr3,arr3)  #Normal corresponding element wise multiplication of two arrays\n",
    "# np.multiply() is different from actual matrix multiplication"
   ]
  }
 ],
 "metadata": {
  "kernelspec": {
   "display_name": "Python 3",
   "language": "python",
   "name": "python3"
  },
  "language_info": {
   "codemirror_mode": {
    "name": "ipython",
    "version": 3
   },
   "file_extension": ".py",
   "mimetype": "text/x-python",
   "name": "python",
   "nbconvert_exporter": "python",
   "pygments_lexer": "ipython3",
   "version": "3.13.1"
  }
 },
 "nbformat": 4,
 "nbformat_minor": 2
}
